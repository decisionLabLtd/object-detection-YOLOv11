{
 "cells": [
  {
   "cell_type": "code",
   "execution_count": 1,
   "metadata": {},
   "outputs": [],
   "source": [
    "import os\n",
    "import shutil\n",
    "import random"
   ]
  },
  {
   "cell_type": "code",
   "execution_count": 8,
   "metadata": {},
   "outputs": [],
   "source": [
    "random.seed(42)\n",
    "\n",
    "def move_files(files, source_folder, target_folder, extension):\n",
    "    \"\"\"\n",
    "    Move files with a specific extension from the source folder to the target folder.\n",
    "    \"\"\"\n",
    "    for file in files:\n",
    "        # replace the extension of the file with the new extension\n",
    "        file = file.replace('.jpg', extension)\n",
    "        shutil.move(f'{source_folder}/{file}', f'{target_folder}/{file}')\n",
    "        #shutil.copy(f'{source_folder}/{file}', f'{target_folder}/{file}')\n",
    "   \n",
    "\n",
    "def move_dataset(source_path, target_path):  \n",
    "    # Ensure the target directories exist\n",
    "    image_train_dir = os.path.join(target_path, 'datasets', 'images', 'train')\n",
    "    image_val_dir = os.path.join(target_path, 'datasets', 'images', 'val')\n",
    "    label_train_dir = os.path.join(target_path, 'datasets', 'labels', 'train')\n",
    "    label_val_dir = os.path.join(target_path, 'datasets', 'labels', 'val')\n",
    "\n",
    "\n",
    "    os.makedirs(image_train_dir, exist_ok=True)\n",
    "    os.makedirs(image_val_dir, exist_ok=True)\n",
    "    os.makedirs(label_train_dir, exist_ok=True)\n",
    "    os.makedirs(label_val_dir, exist_ok=True)\n",
    "\n",
    "   \n",
    "    # Only consider jpg files\n",
    "    jpg_files = [file for file in os.listdir(source_path) if file.endswith('.jpg')]\n",
    "    dataset_size = len(jpg_files)\n",
    "    train_size = int(dataset_size * 0.8)\n",
    "    val_size = (dataset_size - train_size)\n",
    "    \n",
    "    # Get the jpg files for each dataset split\n",
    "    random.shuffle(jpg_files)\n",
    "    train_files = jpg_files[:train_size]\n",
    "    val_files = jpg_files[train_size:train_size + val_size]\n",
    "\n",
    "    # Move images to appropriate folders\n",
    "    move_files(train_files, source_path, image_train_dir, '.jpg')\n",
    "    move_files(val_files, source_path, image_val_dir, '.jpg')\n",
    "\n",
    "    # move labels to appropriate folders\n",
    "    move_files(train_files, source_path, label_train_dir, '.txt')\n",
    "    move_files(val_files, source_path, label_val_dir, '.txt')\n"
   ]
  },
  {
   "cell_type": "markdown",
   "metadata": {},
   "source": [
    "# Parcels"
   ]
  },
  {
   "cell_type": "code",
   "execution_count": 10,
   "metadata": {},
   "outputs": [],
   "source": [
    "soure_parcel_path = 'separate_datasets_inv4\\\\parcels'\n",
    "target_parcel_path = 'separate_datasets_inv11\\\\parcels'\n",
    "move_dataset(soure_parcel_path, target_parcel_path)\n",
    "\n",
    "soure_parcel_path = 'separate_datasets_inv4\\\\parcels_2'\n",
    "move_dataset(soure_parcel_path, target_parcel_path)"
   ]
  },
  {
   "cell_type": "markdown",
   "metadata": {},
   "source": [
    "# Doors"
   ]
  },
  {
   "cell_type": "code",
   "execution_count": 11,
   "metadata": {},
   "outputs": [],
   "source": [
    "source_door_path = 'separate_datasets_inv4/doors_processed'\n",
    "target_door_path = 'separate_datasets_inv11/doors'\n",
    "move_dataset(source_door_path, target_door_path)\n",
    "\n",
    "source_door_path = 'separate_datasets_inv4/doors2_processed'\n",
    "move_dataset(source_door_path, target_door_path)"
   ]
  },
  {
   "cell_type": "markdown",
   "metadata": {},
   "source": [
    "# People"
   ]
  },
  {
   "cell_type": "code",
   "execution_count": 9,
   "metadata": {},
   "outputs": [],
   "source": [
    "source_people_path = 'separate_datasets_inv4/person'\n",
    "target_people_path = 'separate_datasets_inv11/person'\n",
    "move_dataset(source_people_path, target_people_path)"
   ]
  },
  {
   "cell_type": "markdown",
   "metadata": {},
   "source": [
    "# SVHN Numbers"
   ]
  },
  {
   "cell_type": "code",
   "execution_count": 12,
   "metadata": {},
   "outputs": [],
   "source": [
    "source_numbers_path = 'separate_datasets_inv4/numbers_svhn'\n",
    "target_numbers_path = 'separate_datasets_inv11/numbers_svhn'\n",
    "move_dataset(source_numbers_path, target_numbers_path)"
   ]
  }
 ],
 "metadata": {
  "kernelspec": {
   "display_name": "storefeeder-photo-compliance-jD58WU0M-py3.11",
   "language": "python",
   "name": "python3"
  },
  "language_info": {
   "codemirror_mode": {
    "name": "ipython",
    "version": 3
   },
   "file_extension": ".py",
   "mimetype": "text/x-python",
   "name": "python",
   "nbconvert_exporter": "python",
   "pygments_lexer": "ipython3",
   "version": "3.11.0"
  }
 },
 "nbformat": 4,
 "nbformat_minor": 2
}
