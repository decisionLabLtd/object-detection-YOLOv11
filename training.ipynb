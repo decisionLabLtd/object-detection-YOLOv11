{
 "cells": [
  {
   "cell_type": "code",
   "execution_count": 2,
   "metadata": {},
   "outputs": [],
   "source": [
    "from ultralytics import YOLO\n",
    "import numpy as np\n",
    "import cv2\n",
    "import matplotlib.pyplot as plt\n",
    "from PIL import Image, ImageDraw\n"
   ]
  },
  {
   "cell_type": "markdown",
   "metadata": {},
   "source": [
    "## Training\n",
    "\n",
    "Finetune train the existing yolo nano model on the data specified by `data.yaml`"
   ]
  },
  {
   "cell_type": "code",
   "execution_count": 34,
   "metadata": {},
   "outputs": [
    {
     "name": "stdout",
     "output_type": "stream",
     "text": [
      "Ultralytics 8.3.70  Python-3.12.7 torch-2.6.0+cpu CPU (13th Gen Intel Core(TM) i9-13900H)\n",
      "\u001b[34m\u001b[1mengine\\trainer: \u001b[0mtask=detect, mode=train, model=yolo11n.pt, data=data.yaml, epochs=5, time=None, patience=100, batch=16, imgsz=640, save=True, save_period=-1, cache=False, device=None, workers=8, project=None, name=train, exist_ok=False, pretrained=True, optimizer=auto, verbose=True, seed=0, deterministic=True, single_cls=False, rect=False, cos_lr=False, close_mosaic=10, resume=False, amp=True, fraction=1.0, profile=False, freeze=None, multi_scale=False, overlap_mask=True, mask_ratio=4, dropout=0.0, val=True, split=val, save_json=False, save_hybrid=False, conf=None, iou=0.7, max_det=300, half=False, dnn=False, plots=True, source=None, vid_stride=1, stream_buffer=False, visualize=False, augment=False, agnostic_nms=False, classes=None, retina_masks=False, embed=None, show=False, save_frames=False, save_txt=False, save_conf=False, save_crop=False, show_labels=True, show_conf=True, show_boxes=True, line_width=None, format=torchscript, keras=False, optimize=False, int8=False, dynamic=False, simplify=True, opset=None, workspace=None, nms=False, lr0=0.01, lrf=0.01, momentum=0.937, weight_decay=0.0005, warmup_epochs=3.0, warmup_momentum=0.8, warmup_bias_lr=0.1, box=7.5, cls=0.5, dfl=1.5, pose=12.0, kobj=1.0, nbs=64, hsv_h=0.015, hsv_s=0.7, hsv_v=0.4, degrees=0.0, translate=0.1, scale=0.5, shear=0.0, perspective=0.0, flipud=0.0, fliplr=0.5, bgr=0.0, mosaic=1.0, mixup=0.0, copy_paste=0.0, copy_paste_mode=flip, auto_augment=randaugment, erasing=0.4, crop_fraction=1.0, cfg=None, tracker=botsort.yaml, save_dir=runs\\detect\\train\n",
      "Overriding model.yaml nc=80 with nc=5\n",
      "\n",
      "                   from  n    params  module                                       arguments                     \n",
      "  0                  -1  1       464  ultralytics.nn.modules.conv.Conv             [3, 16, 3, 2]                 \n",
      "  1                  -1  1      4672  ultralytics.nn.modules.conv.Conv             [16, 32, 3, 2]                \n",
      "  2                  -1  1      6640  ultralytics.nn.modules.block.C3k2            [32, 64, 1, False, 0.25]      \n",
      "  3                  -1  1     36992  ultralytics.nn.modules.conv.Conv             [64, 64, 3, 2]                \n",
      "  4                  -1  1     26080  ultralytics.nn.modules.block.C3k2            [64, 128, 1, False, 0.25]     \n",
      "  5                  -1  1    147712  ultralytics.nn.modules.conv.Conv             [128, 128, 3, 2]              \n",
      "  6                  -1  1     87040  ultralytics.nn.modules.block.C3k2            [128, 128, 1, True]           \n",
      "  7                  -1  1    295424  ultralytics.nn.modules.conv.Conv             [128, 256, 3, 2]              \n",
      "  8                  -1  1    346112  ultralytics.nn.modules.block.C3k2            [256, 256, 1, True]           \n",
      "  9                  -1  1    164608  ultralytics.nn.modules.block.SPPF            [256, 256, 5]                 \n",
      " 10                  -1  1    249728  ultralytics.nn.modules.block.C2PSA           [256, 256, 1]                 \n",
      " 11                  -1  1         0  torch.nn.modules.upsampling.Upsample         [None, 2, 'nearest']          \n",
      " 12             [-1, 6]  1         0  ultralytics.nn.modules.conv.Concat           [1]                           \n",
      " 13                  -1  1    111296  ultralytics.nn.modules.block.C3k2            [384, 128, 1, False]          \n",
      " 14                  -1  1         0  torch.nn.modules.upsampling.Upsample         [None, 2, 'nearest']          \n",
      " 15             [-1, 4]  1         0  ultralytics.nn.modules.conv.Concat           [1]                           \n",
      " 16                  -1  1     32096  ultralytics.nn.modules.block.C3k2            [256, 64, 1, False]           \n",
      " 17                  -1  1     36992  ultralytics.nn.modules.conv.Conv             [64, 64, 3, 2]                \n",
      " 18            [-1, 13]  1         0  ultralytics.nn.modules.conv.Concat           [1]                           \n",
      " 19                  -1  1     86720  ultralytics.nn.modules.block.C3k2            [192, 128, 1, False]          \n",
      " 20                  -1  1    147712  ultralytics.nn.modules.conv.Conv             [128, 128, 3, 2]              \n",
      " 21            [-1, 10]  1         0  ultralytics.nn.modules.conv.Concat           [1]                           \n",
      " 22                  -1  1    378880  ultralytics.nn.modules.block.C3k2            [384, 256, 1, True]           \n",
      " 23        [16, 19, 22]  1    431647  ultralytics.nn.modules.head.Detect           [5, [64, 128, 256]]           \n",
      "YOLO11n summary: 319 layers, 2,590,815 parameters, 2,590,799 gradients, 6.4 GFLOPs\n",
      "\n",
      "Transferred 448/499 items from pretrained weights\n",
      "Freezing layer 'model.23.dfl.conv.weight'\n"
     ]
    },
    {
     "name": "stderr",
     "output_type": "stream",
     "text": [
      "\u001b[34m\u001b[1mtrain: \u001b[0mScanning C:\\Users\\BenJordan\\Documents\\Git\\object-detection-YOLOv11\\datasets\\labels\\train.cache... 15695 images, 90 backgrounds, 38 corrupt: 100%|██████████| 15695/15695 [00:00<?, ?it/s]"
     ]
    },
    {
     "name": "stdout",
     "output_type": "stream",
     "text": [
      "\u001b[34m\u001b[1mtrain: \u001b[0mWARNING  C:\\Users\\BenJordan\\Documents\\Git\\object-detection-YOLOv11\\datasets\\images\\train\\10115.jpg: ignoring corrupt image/label: non-normalized or out of bounds coordinates [1.0376984]\n",
      "\u001b[34m\u001b[1mtrain: \u001b[0mWARNING  C:\\Users\\BenJordan\\Documents\\Git\\object-detection-YOLOv11\\datasets\\images\\train\\10149.jpg: ignoring corrupt image/label: non-normalized or out of bounds coordinates [1.0429894]\n",
      "\u001b[34m\u001b[1mtrain: \u001b[0mWARNING  C:\\Users\\BenJordan\\Documents\\Git\\object-detection-YOLOv11\\datasets\\images\\train\\1061.jpg: ignoring corrupt image/label: non-normalized or out of bounds coordinates [1.1021315 1.0746003]\n",
      "\u001b[34m\u001b[1mtrain: \u001b[0mWARNING  C:\\Users\\BenJordan\\Documents\\Git\\object-detection-YOLOv11\\datasets\\images\\train\\1304.jpg: ignoring corrupt image/label: non-normalized or out of bounds coordinates [1.0256411]\n",
      "\u001b[34m\u001b[1mtrain: \u001b[0mWARNING  C:\\Users\\BenJordan\\Documents\\Git\\object-detection-YOLOv11\\datasets\\images\\train\\1328.jpg: ignoring corrupt image/label: non-normalized or out of bounds coordinates [1.0273224]\n",
      "\u001b[34m\u001b[1mtrain: \u001b[0mWARNING  C:\\Users\\BenJordan\\Documents\\Git\\object-detection-YOLOv11\\datasets\\images\\train\\1542.jpg: ignoring corrupt image/label: non-normalized or out of bounds coordinates [1.0311688]\n",
      "\u001b[34m\u001b[1mtrain: \u001b[0mWARNING  C:\\Users\\BenJordan\\Documents\\Git\\object-detection-YOLOv11\\datasets\\images\\train\\2346.jpg: ignoring corrupt image/label: non-normalized or out of bounds coordinates [1.0959753]\n",
      "\u001b[34m\u001b[1mtrain: \u001b[0mWARNING  C:\\Users\\BenJordan\\Documents\\Git\\object-detection-YOLOv11\\datasets\\images\\train\\3190.jpg: ignoring corrupt image/label: non-normalized or out of bounds coordinates [1.0483271]\n",
      "\u001b[34m\u001b[1mtrain: \u001b[0mWARNING  C:\\Users\\BenJordan\\Documents\\Git\\object-detection-YOLOv11\\datasets\\images\\train\\3237.jpg: ignoring corrupt image/label: non-normalized or out of bounds coordinates [1.17658]\n",
      "\u001b[34m\u001b[1mtrain: \u001b[0mWARNING  C:\\Users\\BenJordan\\Documents\\Git\\object-detection-YOLOv11\\datasets\\images\\train\\3327.jpg: ignoring corrupt image/label: non-normalized or out of bounds coordinates [1.1865311]\n",
      "\u001b[34m\u001b[1mtrain: \u001b[0mWARNING  C:\\Users\\BenJordan\\Documents\\Git\\object-detection-YOLOv11\\datasets\\images\\train\\3559.jpg: ignoring corrupt image/label: non-normalized or out of bounds coordinates [1.0850623]\n",
      "\u001b[34m\u001b[1mtrain: \u001b[0mWARNING  C:\\Users\\BenJordan\\Documents\\Git\\object-detection-YOLOv11\\datasets\\images\\train\\3801.jpg: ignoring corrupt image/label: non-normalized or out of bounds coordinates [1.2858555]\n",
      "\u001b[34m\u001b[1mtrain: \u001b[0mWARNING  C:\\Users\\BenJordan\\Documents\\Git\\object-detection-YOLOv11\\datasets\\images\\train\\3946.jpg: ignoring corrupt image/label: non-normalized or out of bounds coordinates [1.0674663 1.1484258]\n",
      "\u001b[34m\u001b[1mtrain: \u001b[0mWARNING  C:\\Users\\BenJordan\\Documents\\Git\\object-detection-YOLOv11\\datasets\\images\\train\\40663.jpg: 1 duplicate labels removed\n",
      "\u001b[34m\u001b[1mtrain: \u001b[0mWARNING  C:\\Users\\BenJordan\\Documents\\Git\\object-detection-YOLOv11\\datasets\\images\\train\\40664.jpg: 1 duplicate labels removed\n",
      "\u001b[34m\u001b[1mtrain: \u001b[0mWARNING  C:\\Users\\BenJordan\\Documents\\Git\\object-detection-YOLOv11\\datasets\\images\\train\\40665.jpg: 1 duplicate labels removed\n",
      "\u001b[34m\u001b[1mtrain: \u001b[0mWARNING  C:\\Users\\BenJordan\\Documents\\Git\\object-detection-YOLOv11\\datasets\\images\\train\\4134.jpg: ignoring corrupt image/label: non-normalized or out of bounds coordinates [1.1071428]\n",
      "\u001b[34m\u001b[1mtrain: \u001b[0mWARNING  C:\\Users\\BenJordan\\Documents\\Git\\object-detection-YOLOv11\\datasets\\images\\train\\4214.jpg: ignoring corrupt image/label: non-normalized or out of bounds coordinates [1.2531121]\n",
      "\u001b[34m\u001b[1mtrain: \u001b[0mWARNING  C:\\Users\\BenJordan\\Documents\\Git\\object-detection-YOLOv11\\datasets\\images\\train\\4292.jpg: ignoring corrupt image/label: non-normalized or out of bounds coordinates [1.0425322]\n",
      "\u001b[34m\u001b[1mtrain: \u001b[0mWARNING  C:\\Users\\BenJordan\\Documents\\Git\\object-detection-YOLOv11\\datasets\\images\\train\\4293.jpg: ignoring corrupt image/label: non-normalized or out of bounds coordinates [1.0469043]\n",
      "\u001b[34m\u001b[1mtrain: \u001b[0mWARNING  C:\\Users\\BenJordan\\Documents\\Git\\object-detection-YOLOv11\\datasets\\images\\train\\4336.jpg: ignoring corrupt image/label: non-normalized or out of bounds coordinates [1.0923077]\n",
      "\u001b[34m\u001b[1mtrain: \u001b[0mWARNING  C:\\Users\\BenJordan\\Documents\\Git\\object-detection-YOLOv11\\datasets\\images\\train\\4358.jpg: ignoring corrupt image/label: non-normalized or out of bounds coordinates [1.0273224]\n",
      "\u001b[34m\u001b[1mtrain: \u001b[0mWARNING  C:\\Users\\BenJordan\\Documents\\Git\\object-detection-YOLOv11\\datasets\\images\\train\\4379.jpg: ignoring corrupt image/label: non-normalized or out of bounds coordinates [1.1381382]\n",
      "\u001b[34m\u001b[1mtrain: \u001b[0mWARNING  C:\\Users\\BenJordan\\Documents\\Git\\object-detection-YOLOv11\\datasets\\images\\train\\4498.jpg: ignoring corrupt image/label: non-normalized or out of bounds coordinates [1.0077922]\n",
      "\u001b[34m\u001b[1mtrain: \u001b[0mWARNING  C:\\Users\\BenJordan\\Documents\\Git\\object-detection-YOLOv11\\datasets\\images\\train\\4556.jpg: ignoring corrupt image/label: non-normalized or out of bounds coordinates [1.1731448]\n",
      "\u001b[34m\u001b[1mtrain: \u001b[0mWARNING  C:\\Users\\BenJordan\\Documents\\Git\\object-detection-YOLOv11\\datasets\\images\\train\\4656.jpg: ignoring corrupt image/label: non-normalized or out of bounds coordinates [1.2858555]\n",
      "\u001b[34m\u001b[1mtrain: \u001b[0mWARNING  C:\\Users\\BenJordan\\Documents\\Git\\object-detection-YOLOv11\\datasets\\images\\train\\4929.jpg: ignoring corrupt image/label: non-normalized or out of bounds coordinates [2.0402892 1.1590909]\n",
      "\u001b[34m\u001b[1mtrain: \u001b[0mWARNING  C:\\Users\\BenJordan\\Documents\\Git\\object-detection-YOLOv11\\datasets\\images\\train\\5031.jpg: ignoring corrupt image/label: non-normalized or out of bounds coordinates [1.0761751]\n",
      "\u001b[34m\u001b[1mtrain: \u001b[0mWARNING  C:\\Users\\BenJordan\\Documents\\Git\\object-detection-YOLOv11\\datasets\\images\\train\\5120.jpg: ignoring corrupt image/label: non-normalized or out of bounds coordinates [1.1414441]\n",
      "\u001b[34m\u001b[1mtrain: \u001b[0mWARNING  C:\\Users\\BenJordan\\Documents\\Git\\object-detection-YOLOv11\\datasets\\images\\train\\5412.jpg: ignoring corrupt image/label: non-normalized or out of bounds coordinates [1.123839]\n",
      "\u001b[34m\u001b[1mtrain: \u001b[0mWARNING  C:\\Users\\BenJordan\\Documents\\Git\\object-detection-YOLOv11\\datasets\\images\\train\\5931.jpg: ignoring corrupt image/label: non-normalized or out of bounds coordinates [1.2238806]\n",
      "\u001b[34m\u001b[1mtrain: \u001b[0mWARNING  C:\\Users\\BenJordan\\Documents\\Git\\object-detection-YOLOv11\\datasets\\images\\train\\6044.jpg: ignoring corrupt image/label: non-normalized or out of bounds coordinates [1.1291292]\n",
      "\u001b[34m\u001b[1mtrain: \u001b[0mWARNING  C:\\Users\\BenJordan\\Documents\\Git\\object-detection-YOLOv11\\datasets\\images\\train\\6384.jpg: ignoring corrupt image/label: non-normalized or out of bounds coordinates [1.0727136]\n",
      "\u001b[34m\u001b[1mtrain: \u001b[0mWARNING  C:\\Users\\BenJordan\\Documents\\Git\\object-detection-YOLOv11\\datasets\\images\\train\\7342.jpg: ignoring corrupt image/label: non-normalized or out of bounds coordinates [1.1341829]\n",
      "\u001b[34m\u001b[1mtrain: \u001b[0mWARNING  C:\\Users\\BenJordan\\Documents\\Git\\object-detection-YOLOv11\\datasets\\images\\train\\7466.jpg: ignoring corrupt image/label: non-normalized or out of bounds coordinates [1.0717055]\n",
      "\u001b[34m\u001b[1mtrain: \u001b[0mWARNING  C:\\Users\\BenJordan\\Documents\\Git\\object-detection-YOLOv11\\datasets\\images\\train\\7956.jpg: ignoring corrupt image/label: non-normalized or out of bounds coordinates [1.1261538]\n",
      "\u001b[34m\u001b[1mtrain: \u001b[0mWARNING  C:\\Users\\BenJordan\\Documents\\Git\\object-detection-YOLOv11\\datasets\\images\\train\\8077.jpg: ignoring corrupt image/label: non-normalized or out of bounds coordinates [1.1795666]\n",
      "\u001b[34m\u001b[1mtrain: \u001b[0mWARNING  C:\\Users\\BenJordan\\Documents\\Git\\object-detection-YOLOv11\\datasets\\images\\train\\8178.jpg: ignoring corrupt image/label: non-normalized or out of bounds coordinates [1.2166667]\n",
      "\u001b[34m\u001b[1mtrain: \u001b[0mWARNING  C:\\Users\\BenJordan\\Documents\\Git\\object-detection-YOLOv11\\datasets\\images\\train\\8186.jpg: ignoring corrupt image/label: non-normalized or out of bounds coordinates [1.0761751]\n",
      "\u001b[34m\u001b[1mtrain: \u001b[0mWARNING  C:\\Users\\BenJordan\\Documents\\Git\\object-detection-YOLOv11\\datasets\\images\\train\\8188.jpg: ignoring corrupt image/label: non-normalized or out of bounds coordinates [1.0273224]\n",
      "\u001b[34m\u001b[1mtrain: \u001b[0mWARNING  C:\\Users\\BenJordan\\Documents\\Git\\object-detection-YOLOv11\\datasets\\images\\train\\8228.jpg: ignoring corrupt image/label: non-normalized or out of bounds coordinates [1.063197]\n"
     ]
    },
    {
     "name": "stderr",
     "output_type": "stream",
     "text": [
      "\n",
      "\u001b[34m\u001b[1mval: \u001b[0mScanning C:\\Users\\BenJordan\\Documents\\Git\\object-detection-YOLOv11\\datasets\\labels\\val.cache... 5230 images, 31 backgrounds, 6 corrupt: 100%|██████████| 5230/5230 [00:00<?, ?it/s]"
     ]
    },
    {
     "name": "stdout",
     "output_type": "stream",
     "text": [
      "\u001b[34m\u001b[1mval: \u001b[0mWARNING  C:\\Users\\BenJordan\\Documents\\Git\\object-detection-YOLOv11\\datasets\\images\\val\\1057.jpg: ignoring corrupt image/label: non-normalized or out of bounds coordinates [1.1104478]\n",
      "\u001b[34m\u001b[1mval: \u001b[0mWARNING  C:\\Users\\BenJordan\\Documents\\Git\\object-detection-YOLOv11\\datasets\\images\\val\\3581.jpg: ignoring corrupt image/label: non-normalized or out of bounds coordinates [1.0338461]\n",
      "\u001b[34m\u001b[1mval: \u001b[0mWARNING  C:\\Users\\BenJordan\\Documents\\Git\\object-detection-YOLOv11\\datasets\\images\\val\\4598.jpg: ignoring corrupt image/label: non-normalized or out of bounds coordinates [1.1328671]\n",
      "\u001b[34m\u001b[1mval: \u001b[0mWARNING  C:\\Users\\BenJordan\\Documents\\Git\\object-detection-YOLOv11\\datasets\\images\\val\\7408.jpg: ignoring corrupt image/label: non-normalized or out of bounds coordinates [1.1384616]\n",
      "\u001b[34m\u001b[1mval: \u001b[0mWARNING  C:\\Users\\BenJordan\\Documents\\Git\\object-detection-YOLOv11\\datasets\\images\\val\\7432.jpg: ignoring corrupt image/label: non-normalized or out of bounds coordinates [1.9266862 1.0029325]\n",
      "\u001b[34m\u001b[1mval: \u001b[0mWARNING  C:\\Users\\BenJordan\\Documents\\Git\\object-detection-YOLOv11\\datasets\\images\\val\\962.jpg: ignoring corrupt image/label: non-normalized or out of bounds coordinates [1.1142857]\n"
     ]
    },
    {
     "name": "stderr",
     "output_type": "stream",
     "text": [
      "\n"
     ]
    },
    {
     "name": "stdout",
     "output_type": "stream",
     "text": [
      "Plotting labels to runs\\detect\\train\\labels.jpg... \n",
      "\u001b[34m\u001b[1moptimizer:\u001b[0m 'optimizer=auto' found, ignoring 'lr0=0.01' and 'momentum=0.937' and determining best 'optimizer', 'lr0' and 'momentum' automatically... \n",
      "\u001b[34m\u001b[1moptimizer:\u001b[0m AdamW(lr=0.001111, momentum=0.9) with parameter groups 81 weight(decay=0.0), 88 weight(decay=0.0005), 87 bias(decay=0.0)\n",
      "Image sizes 640 train, 640 val\n",
      "Using 0 dataloader workers\n",
      "Logging results to \u001b[1mruns\\detect\\train\u001b[0m\n",
      "Starting training for 5 epochs...\n",
      "\n",
      "      Epoch    GPU_mem   box_loss   cls_loss   dfl_loss  Instances       Size\n"
     ]
    },
    {
     "name": "stderr",
     "output_type": "stream",
     "text": [
      "        1/5         0G      1.293       1.99      1.438         63        640: 100%|██████████| 979/979 [2:11:30<00:00,  8.06s/it]  \n",
      "                 Class     Images  Instances      Box(P          R      mAP50  mAP50-95): 100%|██████████| 164/164 [10:08<00:00,  3.71s/it]\n"
     ]
    },
    {
     "name": "stdout",
     "output_type": "stream",
     "text": [
      "                   all       5224      17555      0.619       0.63      0.628       0.39\n",
      "\n",
      "      Epoch    GPU_mem   box_loss   cls_loss   dfl_loss  Instances       Size\n"
     ]
    },
    {
     "name": "stderr",
     "output_type": "stream",
     "text": [
      "        2/5         0G      1.271       1.44      1.411         41        640: 100%|██████████| 979/979 [1:29:30<00:00,  5.49s/it]\n",
      "                 Class     Images  Instances      Box(P          R      mAP50  mAP50-95): 100%|██████████| 164/164 [09:13<00:00,  3.37s/it]\n"
     ]
    },
    {
     "name": "stdout",
     "output_type": "stream",
     "text": [
      "                   all       5224      17555      0.748      0.672      0.721      0.461\n",
      "\n",
      "      Epoch    GPU_mem   box_loss   cls_loss   dfl_loss  Instances       Size\n"
     ]
    },
    {
     "name": "stderr",
     "output_type": "stream",
     "text": [
      "        3/5         0G       1.22      1.301      1.384         45        640: 100%|██████████| 979/979 [1:29:05<00:00,  5.46s/it]\n",
      "                 Class     Images  Instances      Box(P          R      mAP50  mAP50-95): 100%|██████████| 164/164 [09:09<00:00,  3.35s/it]\n"
     ]
    },
    {
     "name": "stdout",
     "output_type": "stream",
     "text": [
      "                   all       5224      17555      0.768      0.679      0.738      0.516\n",
      "\n",
      "      Epoch    GPU_mem   box_loss   cls_loss   dfl_loss  Instances       Size\n"
     ]
    },
    {
     "name": "stderr",
     "output_type": "stream",
     "text": [
      "        4/5         0G      1.146      1.156      1.331         44        640: 100%|██████████| 979/979 [1:28:39<00:00,  5.43s/it]\n",
      "                 Class     Images  Instances      Box(P          R      mAP50  mAP50-95): 100%|██████████| 164/164 [09:16<00:00,  3.40s/it]\n"
     ]
    },
    {
     "name": "stdout",
     "output_type": "stream",
     "text": [
      "                   all       5224      17555       0.81      0.728      0.782      0.564\n",
      "\n",
      "      Epoch    GPU_mem   box_loss   cls_loss   dfl_loss  Instances       Size\n"
     ]
    },
    {
     "name": "stderr",
     "output_type": "stream",
     "text": [
      "        5/5         0G      1.069      1.029      1.282         56        640: 100%|██████████| 979/979 [1:27:47<00:00,  5.38s/it]\n",
      "                 Class     Images  Instances      Box(P          R      mAP50  mAP50-95): 100%|██████████| 164/164 [08:58<00:00,  3.28s/it]\n"
     ]
    },
    {
     "name": "stdout",
     "output_type": "stream",
     "text": [
      "                   all       5224      17555      0.838      0.765      0.816      0.611\n",
      "\n",
      "5 epochs completed in 8.893 hours.\n",
      "Optimizer stripped from runs\\detect\\train\\weights\\last.pt, 5.4MB\n",
      "Optimizer stripped from runs\\detect\\train\\weights\\best.pt, 5.4MB\n",
      "\n",
      "Validating runs\\detect\\train\\weights\\best.pt...\n",
      "Ultralytics 8.3.70  Python-3.12.7 torch-2.6.0+cpu CPU (13th Gen Intel Core(TM) i9-13900H)\n",
      "YOLO11n summary (fused): 238 layers, 2,583,127 parameters, 0 gradients, 6.3 GFLOPs\n"
     ]
    },
    {
     "name": "stderr",
     "output_type": "stream",
     "text": [
      "                 Class     Images  Instances      Box(P          R      mAP50  mAP50-95): 100%|██████████| 164/164 [07:16<00:00,  2.66s/it]\n"
     ]
    },
    {
     "name": "stdout",
     "output_type": "stream",
     "text": [
      "                   all       5224      17555      0.837      0.765      0.816      0.611\n",
      "                Parcel       2675       7284      0.732      0.692      0.735      0.533\n",
      "                  Door        649        735      0.864      0.766      0.859      0.705\n",
      "                Person       1048       4238      0.721      0.418       0.52      0.289\n",
      "                Number        821       3397      0.954      0.982      0.991      0.766\n",
      "             Character        821       1901      0.914      0.969      0.976      0.759\n",
      "Speed: 1.0ms preprocess, 70.0ms inference, 0.0ms loss, 0.9ms postprocess per image\n",
      "Results saved to \u001b[1mruns\\detect\\train\u001b[0m\n"
     ]
    }
   ],
   "source": [
    "# Load a COCO-pretrained YOLO11n model\n",
    "model = YOLO(\"yolo11n.pt\")\n",
    "# train the model\n",
    "results = model.train(data=\"model/data.yaml\", epochs = 5, imgsz = 640)"
   ]
  },
  {
   "cell_type": "markdown",
   "metadata": {},
   "source": [
    "## Export model\n",
    "\n",
    "Exports the model to onnx format..."
   ]
  },
  {
   "cell_type": "code",
   "execution_count": 35,
   "metadata": {},
   "outputs": [
    {
     "name": "stdout",
     "output_type": "stream",
     "text": [
      "Ultralytics 8.3.70  Python-3.12.7 torch-2.6.0+cpu CPU (13th Gen Intel Core(TM) i9-13900H)\n",
      "YOLO11n summary (fused): 238 layers, 2,583,127 parameters, 0 gradients, 6.3 GFLOPs\n",
      "\n",
      "\u001b[34m\u001b[1mPyTorch:\u001b[0m starting from 'runs\\detect\\train\\weights\\best.pt' with input shape (1, 3, 640, 640) BCHW and output shape(s) (1, 9, 8400) (5.2 MB)\n",
      "\n",
      "\u001b[34m\u001b[1mONNX:\u001b[0m starting export with onnx 1.17.0 opset 19...\n",
      "\u001b[34m\u001b[1mONNX:\u001b[0m slimming with onnxslim 0.1.48...\n",
      "\u001b[34m\u001b[1mONNX:\u001b[0m export success  2.3s, saved as 'runs\\detect\\train\\weights\\best.onnx' (10.1 MB)\n",
      "\n",
      "Export complete (2.8s)\n",
      "Results saved to \u001b[1mC:\\Users\\BenJordan\\Documents\\Git\\object-detection-YOLOv11\\runs\\detect\\train\\weights\u001b[0m\n",
      "Predict:         yolo predict task=detect model=runs\\detect\\train\\weights\\best.onnx imgsz=640  \n",
      "Validate:        yolo val task=detect model=runs\\detect\\train\\weights\\best.onnx imgsz=640 data=data.yaml  \n",
      "Visualize:       https://netron.app\n"
     ]
    },
    {
     "data": {
      "text/plain": [
       "'runs\\\\detect\\\\train\\\\weights\\\\best.onnx'"
      ]
     },
     "execution_count": 35,
     "metadata": {},
     "output_type": "execute_result"
    }
   ],
   "source": [
    "model = YOLO(\"runs/detect/train/weights/best.pt\")  # load a custom trained model"
   ]
  },
  {
   "cell_type": "code",
   "execution_count": null,
   "metadata": {},
   "outputs": [],
   "source": [
    "model.export(format=\"onnx\")"
   ]
  },
  {
   "cell_type": "code",
   "execution_count": 2,
   "metadata": {},
   "outputs": [
    {
     "name": "stdout",
     "output_type": "stream",
     "text": [
      "Ultralytics 8.3.70  Python-3.11.0 torch-2.6.0+cpu CPU (13th Gen Intel Core(TM) i9-13900H)\n",
      "YOLO11n summary (fused): 238 layers, 2,583,127 parameters, 0 gradients, 6.3 GFLOPs\n",
      "\n",
      "\u001b[34m\u001b[1mPyTorch:\u001b[0m starting from 'runs\\detect\\train\\weights\\best.pt' with input shape (1, 3, 640, 640) BCHW and output shape(s) (1, 9, 8400) (5.2 MB)\n",
      "\n",
      "\u001b[34m\u001b[1mTensorFlow SavedModel:\u001b[0m starting export with tensorflow 2.18.0...\n",
      "WARNING:tensorflow:From c:\\Users\\BenJordan\\AppData\\Local\\pypoetry\\Cache\\virtualenvs\\storefeeder-photo-compliance-8K7a4N7m-py3.11\\Lib\\site-packages\\tf_keras\\src\\losses.py:2976: The name tf.losses.sparse_softmax_cross_entropy is deprecated. Please use tf.compat.v1.losses.sparse_softmax_cross_entropy instead.\n",
      "\n",
      "\n",
      "\u001b[34m\u001b[1mONNX:\u001b[0m starting export with onnx 1.17.0 opset 19...\n",
      "\u001b[34m\u001b[1mONNX:\u001b[0m slimming with onnxslim 0.1.48...\n",
      "\u001b[34m\u001b[1mONNX:\u001b[0m export success  2.1s, saved as 'runs\\detect\\train\\weights\\best.onnx' (10.2 MB)\n",
      "\u001b[34m\u001b[1mTensorFlow SavedModel:\u001b[0m starting TFLite export with onnx2tf 1.26.3...\n",
      "\u001b[34m\u001b[1mTensorFlow SavedModel:\u001b[0m export success  46.1s, saved as 'runs\\detect\\train\\weights\\best_saved_model' (26.6 MB)\n",
      "\n",
      "\u001b[34m\u001b[1mTensorFlow Lite:\u001b[0m starting export with tensorflow 2.18.0...\n",
      "\u001b[34m\u001b[1mTensorFlow Lite:\u001b[0m export success  0.0s, saved as 'runs\\detect\\train\\weights\\best_saved_model\\best_float32.tflite' (10.2 MB)\n",
      "\n",
      "Export complete (46.6s)\n",
      "Results saved to \u001b[1mC:\\Users\\BenJordan\\Documents\\Git\\object-detection-YOLOv11\\runs\\detect\\train\\weights\u001b[0m\n",
      "Predict:         yolo predict task=detect model=runs\\detect\\train\\weights\\best_saved_model\\best_float32.tflite imgsz=640  \n",
      "Validate:        yolo val task=detect model=runs\\detect\\train\\weights\\best_saved_model\\best_float32.tflite imgsz=640 data=data.yaml  \n",
      "Visualize:       https://netron.app\n"
     ]
    },
    {
     "data": {
      "text/plain": [
       "'runs\\\\detect\\\\train\\\\weights\\\\best_saved_model\\\\best_float32.tflite'"
      ]
     },
     "execution_count": 2,
     "metadata": {},
     "output_type": "execute_result"
    }
   ],
   "source": [
    "model.export(format=\"tflite\")\n",
    "# model.export(format=\"tflite\", int8 = True) # quantize to int8 format\n",
    "# model.export(format=\"edgetpu\") # try on linux system"
   ]
  }
 ],
 "metadata": {
  "kernelspec": {
   "display_name": "storefeeder-photo-compliance-8K7a4N7m-py3.11",
   "language": "python",
   "name": "python3"
  },
  "language_info": {
   "codemirror_mode": {
    "name": "ipython",
    "version": 3
   },
   "file_extension": ".py",
   "mimetype": "text/x-python",
   "name": "python",
   "nbconvert_exporter": "python",
   "pygments_lexer": "ipython3",
   "version": "3.11.0"
  }
 },
 "nbformat": 4,
 "nbformat_minor": 2
}
