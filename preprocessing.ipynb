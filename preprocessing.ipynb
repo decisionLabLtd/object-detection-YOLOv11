{
 "cells": [
  {
   "cell_type": "code",
   "execution_count": 1,
   "metadata": {},
   "outputs": [],
   "source": [
    "import os\n",
    "import shutil\n"
   ]
  },
  {
   "cell_type": "code",
   "execution_count": 29,
   "metadata": {},
   "outputs": [],
   "source": [
    "import os\n",
    "import shutil\n",
    "import random\n",
    "\n",
    "random.seed(42)\n",
    "\n",
    "def move_files(files, source_folder, target_folder, extension):\n",
    "    \"\"\"\n",
    "    Move files with a specific extension from the source folder to the target folder.\n",
    "    \"\"\"\n",
    "    for file in files:\n",
    "        # replace the extension of the file with the new extension\n",
    "        file = file.replace('.jpg', extension)\n",
    "        shutil.move(f'{source_folder}/{file}', f'{target_folder}/{file}')\n",
    "        #shutil.copy(f'{source_folder}/{file}', f'{target_folder}/{file}')\n",
    "\n",
    "# Ensure the target directories exist\n",
    "os.makedirs('datasets/images/train', exist_ok=True)\n",
    "os.makedirs('datasets/images/val', exist_ok=True)\n",
    "os.makedirs('datasets/images/test', exist_ok=True)\n",
    "os.makedirs('datasets/labels/train', exist_ok=True)\n",
    "os.makedirs('datasets/labels/val', exist_ok=True)\n",
    "os.makedirs('datasets/labels/test', exist_ok=True)\n",
    "\n",
    "# Iterate over all folders in 'datasets/separate_datasets'\n",
    "for folder in os.listdir('datasets/separate_datasets'):\n",
    "    folder_path = f'datasets/separate_datasets/{folder}'\n",
    "    \n",
    "    # Only consider jpg files\n",
    "    dataset_size = len([file for file in os.listdir(folder_path) if file.endswith('.jpg')])\n",
    "    train_size = int(dataset_size * 0.6)\n",
    "    val_size = int(dataset_size * 0.2)\n",
    "    test_size = (dataset_size - train_size - val_size)\n",
    "    \n",
    "    # Get the jpg files for each dataset split\n",
    "    jpg_files = [file for file in os.listdir(folder_path) if file.endswith('.jpg')]\n",
    "    random.shuffle(jpg_files)\n",
    "    train_files = jpg_files[:train_size]\n",
    "    val_files = jpg_files[train_size:train_size + val_size]\n",
    "    test_files = jpg_files[train_size + val_size: train_size + val_size + test_size]\n",
    "\n",
    "    # Move images to appropriate folders\n",
    "    move_files(train_files, folder_path, 'datasets/images/train', '.jpg')\n",
    "    move_files(val_files, folder_path, 'datasets/images/val', '.jpg')\n",
    "    move_files(test_files, folder_path, 'datasets/images/test', '.jpg')\n",
    "\n",
    "    # move labels to appropriate folders\n",
    "    move_files(train_files, folder_path, 'datasets/labels/train', '.txt')\n",
    "    move_files(val_files, folder_path, 'datasets/labels/val', '.txt')\n",
    "    move_files(test_files, folder_path, 'datasets/labels/test', '.txt')\n",
    "    \n"
   ]
  }
 ],
 "metadata": {
  "kernelspec": {
   "display_name": "storefeeder-photo-compliance-8K7a4N7m-py3.12",
   "language": "python",
   "name": "python3"
  },
  "language_info": {
   "codemirror_mode": {
    "name": "ipython",
    "version": 3
   },
   "file_extension": ".py",
   "mimetype": "text/x-python",
   "name": "python",
   "nbconvert_exporter": "python",
   "pygments_lexer": "ipython3",
   "version": "3.12.7"
  }
 },
 "nbformat": 4,
 "nbformat_minor": 2
}
